{
 "cells": [
  {
   "cell_type": "code",
   "execution_count": 3,
   "id": "b0865204",
   "metadata": {},
   "outputs": [],
   "source": [
    "from models.base.models import Model\n",
    "from models.base.fields import Field"
   ]
  },
  {
   "cell_type": "markdown",
   "id": "5d7bc16d",
   "metadata": {},
   "source": [
    "### Define data model"
   ]
  },
  {
   "cell_type": "code",
   "execution_count": 4,
   "id": "63bf9135",
   "metadata": {},
   "outputs": [],
   "source": [
    "class MemStatus(Model):\n",
    "    mem_name = Field(\"mem_name\", default_value=\"\", callback_func=lambda x: str(x))\n",
    "    mem_ip = Field(\"mme_ip\", default_value=\"\", callback_func=lambda x: str(x))\n",
    "    ap_desc = Field(\"_desc\", default_value=\"\", callback_func=lambda x: str(x))\n",
    "    "
   ]
  },
  {
   "cell_type": "markdown",
   "id": "183c8d39",
   "metadata": {},
   "source": [
    "### Init DataModel(1)"
   ]
  },
  {
   "cell_type": "code",
   "execution_count": 5,
   "id": "a9c0f6da",
   "metadata": {},
   "outputs": [
    {
     "data": {
      "text/plain": [
       "{'ap_name': 'For_devel_ap', 'ap_ip': '192.168.0.1', 'ap_desc': 'For Develop'}"
      ]
     },
     "execution_count": 5,
     "metadata": {},
     "output_type": "execute_result"
    }
   ],
   "source": [
    "ap = {\n",
    "    'ap_name': 'For_devel_ap',\n",
    "    'ap_ip': '192.168.0.1',\n",
    "    'ap_desc': 'For Develop'\n",
    "}\n",
    "APStatus(**ap).convert()"
   ]
  },
  {
   "cell_type": "markdown",
   "id": "5f1ad001",
   "metadata": {},
   "source": [
    "### Init DataModel(2)"
   ]
  },
  {
   "cell_type": "code",
   "execution_count": 6,
   "id": "ec772c32",
   "metadata": {},
   "outputs": [
    {
     "data": {
      "text/plain": [
       "{'ap_name': 'For_devel_ap', 'ap_ip': '192.168.0.1', 'ap_desc': ''}"
      ]
     },
     "execution_count": 6,
     "metadata": {},
     "output_type": "execute_result"
    }
   ],
   "source": [
    "ap = {\n",
    "    'ap_name': 'For_devel_ap',\n",
    "    'ap_ip': '192.168.0.1',\n",
    "}\n",
    "APStatus(**ap).convert()\n"
   ]
  },
  {
   "cell_type": "markdown",
   "id": "31c652a2",
   "metadata": {},
   "source": [
    "### Init DataModel(3)"
   ]
  },
  {
   "cell_type": "code",
   "execution_count": 8,
   "id": "5ca95268",
   "metadata": {},
   "outputs": [
    {
     "data": {
      "text/plain": [
       "{'ap_name': 'For_devel_ap', 'ap_ip': '192.168.0.1', 'ap_desc': 'For Develop'}"
      ]
     },
     "execution_count": 8,
     "metadata": {},
     "output_type": "execute_result"
    }
   ],
   "source": [
    "ap = {\n",
    "    'ap_name': 'For_devel_ap',\n",
    "    'ap_ip': '192.168.0.1',\n",
    "    'ap_desc': 'For Develop',\n",
    "    'test': 'opaiskdjrf',\n",
    "    'test2': 92837492\n",
    "}\n",
    "\n",
    "APStatus(**ap).convert()\n"
   ]
  }
 ],
 "metadata": {
  "kernelspec": {
   "display_name": "Python 3 (ipykernel)",
   "language": "python",
   "name": "python3"
  },
  "language_info": {
   "codemirror_mode": {
    "name": "ipython",
    "version": 3
   },
   "file_extension": ".py",
   "mimetype": "text/x-python",
   "name": "python",
   "nbconvert_exporter": "python",
   "pygments_lexer": "ipython3",
   "version": "3.8.13"
  }
 },
 "nbformat": 4,
 "nbformat_minor": 5
}
